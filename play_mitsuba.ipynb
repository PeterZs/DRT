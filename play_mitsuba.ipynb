{
 "nbformat": 4,
 "nbformat_minor": 2,
 "metadata": {
  "language_info": {
   "name": "python",
   "codemirror_mode": {
    "name": "ipython",
    "version": 3
   },
   "version": "3.7.6-final"
  },
  "orig_nbformat": 2,
  "file_extension": ".py",
  "mimetype": "text/x-python",
  "name": "python",
  "npconvert_exporter": "python",
  "pygments_lexer": "ipython3",
  "version": 3,
  "kernelspec": {
   "name": "python3",
   "display_name": "Python 3"
  }
 },
 "cells": [
  {
   "cell_type": "code",
   "execution_count": null,
   "metadata": {},
   "outputs": [],
   "source": [
    "import sys\n",
    "sys.path.append('/root/workspace/mitsuba2/build/dist')\n",
    "sys.path.append('/root/workspace/mitsuba2/build/dist/python')\n",
    "import enoki as ek\n",
    "import mitsuba\n",
    "mitsuba.set_variant('gpu_autodiff_rgb')\n",
    "# mitsuba.set_variant('scalar_rgb_double')\n",
    "\n",
    "from mitsuba.core import Float, UInt32, UInt64, Vector2f, Vector3f, Ray3f\n",
    "from mitsuba.core import Bitmap, Struct, Thread\n",
    "from mitsuba.core.xml import load_file\n",
    "from mitsuba.render import ImageBlock\n",
    "\n",
    "from mitsuba.core.xml import load_file, load_string\n",
    "from mitsuba.python.util import traverse\n",
    "from mitsuba.python.autodiff import render, write_bitmap, Adam\n",
    "import time\n",
    "import imageio\n",
    "import numpy as np\n",
    "import kornia"
   ]
  },
  {
   "cell_type": "code",
   "execution_count": null,
   "metadata": {},
   "outputs": [],
   "source": [
    "import trimesh\n",
    "mesh = trimesh.load(\"/root/workspace/data/horse_uv.ply\", process=False)"
   ]
  },
  {
   "cell_type": "code",
   "execution_count": null,
   "metadata": {},
   "outputs": [],
   "source": [
    "mesh.is_watertight"
   ]
  },
  {
   "cell_type": "code",
   "execution_count": null,
   "metadata": {},
   "outputs": [],
   "source": [
    "mesh = None\n",
    "with open(\"/root/workspace/data/horse_uv.ply\") as file:\n",
    "    mesh = file.readlines()"
   ]
  },
  {
   "cell_type": "code",
   "execution_count": 49,
   "metadata": {},
   "outputs": [
    {
     "output_type": "stream",
     "name": "stderr",
     "text": "100%|██████████| 239067/239067 [00:00<00:00, 708362.98it/s]\n"
    }
   ],
   "source": [
    "import tqdm\n",
    "V = []\n",
    "for line in tqdm.tqdm(mesh):\n",
    "    line = line.split()\n",
    "    if len(line) is not 5: continue\n",
    "    try:\n",
    "        V.append(line[0]+line[1]+line[2])\n",
    "    except:pass\n",
    "# V=np.array(V)\n",
    ""
   ]
  },
  {
   "cell_type": "code",
   "execution_count": 54,
   "metadata": {},
   "outputs": [
    {
     "output_type": "execute_result",
     "data": {
      "text/plain": "87318"
     },
     "metadata": {},
     "execution_count": 54
    }
   ],
   "source": [
    "len(V)"
   ]
  },
  {
   "cell_type": "code",
   "execution_count": 72,
   "metadata": {},
   "outputs": [
    {
     "output_type": "execute_result",
     "data": {
      "text/plain": "87318"
     },
     "metadata": {},
     "execution_count": 72
    }
   ],
   "source": [
    "_,inverse,count=np.unique(V,axis=0,return_counts=True,return_inverse=True,)\n",
    "# np.nonzero(count>1)[0]\n",
    "len(inverse)"
   ]
  },
  {
   "cell_type": "code",
   "execution_count": null,
   "metadata": {},
   "outputs": [],
   "source": [
    "np.setdiff1d()"
   ]
  },
  {
   "cell_type": "code",
   "execution_count": 42,
   "metadata": {},
   "outputs": [
    {
     "output_type": "execute_result",
     "data": {
      "text/plain": "(array(['-0.000170-0.017427-0.204238'], dtype='<U27'), array([2]))"
     },
     "metadata": {},
     "execution_count": 42
    }
   ],
   "source": [
    "np.unique(['-0.000170-0.017427-0.204238','-0.000170-0.017427-0.204238'],axis=0,return_counts=True)"
   ]
  },
  {
   "cell_type": "code",
   "execution_count": null,
   "metadata": {},
   "outputs": [],
   "source": [
    "len(V)"
   ]
  },
  {
   "cell_type": "code",
   "execution_count": null,
   "metadata": {},
   "outputs": [],
   "source": [
    "N = V[:,3:6]\n",
    "N  = N / np.linalg.norm(N, axis=1).reshape(-1,1)"
   ]
  },
  {
   "cell_type": "code",
   "execution_count": null,
   "metadata": {},
   "outputs": [],
   "source": [
    "mask=np.isfinite(N)\n",
    "np.nonzero(mask==False)"
   ]
  },
  {
   "cell_type": "code",
   "execution_count": null,
   "metadata": {},
   "outputs": [],
   "source": [
    "V[np.nonzero(mask==False)[0]]"
   ]
  },
  {
   "cell_type": "code",
   "execution_count": null,
   "metadata": {},
   "outputs": [],
   "source": [
    "# path = \"/root/workspace/DR/result/hand_init.ply\"\n",
    "path = \"/root/workspace/data/horse_uv.ply\"\n",
    "# del scene\n",
    "# ek.cuda_malloc_trim()\n",
    "scene = load_string(\"\"\"\n",
    "<shape type=\"ply\" version=\"2.0.0\">\n",
    "        <string name=\"filename\" value=\"{}\"/>\n",
    "    </shape>\n",
    "    \"\"\".format(path)\n",
    "    )"
   ]
  },
  {
   "cell_type": "code",
   "execution_count": null,
   "metadata": {},
   "outputs": [],
   "source": [
    "N=traverse(scene)['vertex_normals']\n",
    ""
   ]
  },
  {
   "cell_type": "code",
   "execution_count": null,
   "metadata": {},
   "outputs": [],
   "source": [
    "import trimesh\n",
    "mesh=trimesh.load(\"/root/mnt/data/horse_uv.ply\")"
   ]
  },
  {
   "cell_type": "code",
   "execution_count": null,
   "metadata": {},
   "outputs": [],
   "source": [
    "_=mesh.export(\"/root/mnt/data/horse_uv_processed.ply\")"
   ]
  },
  {
   "cell_type": "code",
   "execution_count": null,
   "metadata": {},
   "outputs": [],
   "source": []
  }
 ]
}