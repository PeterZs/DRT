{
 "cells": [
  {
   "cell_type": "code",
   "execution_count": null,
   "metadata": {},
   "outputs": [],
   "source": [
    "import os\n",
    "import trimesh\n",
    "import trimesh.transformations as TF\n",
    "from trimesh.proximity import closest_point\n",
    "import torch\n",
    "import numpy as np\n",
    "import random\n",
    "from PIL import Image\n",
    "import cv2\n",
    "import matplotlib.pyplot as plt\n",
    "from scipy import spatial\n",
    "\n",
    "import meshlabxml as mlx\n",
    "from tqdm import trange\n",
    "import time"
   ]
  },
  {
   "cell_type": "code",
   "execution_count": null,
   "metadata": {},
   "outputs": [],
   "source": []
  },
  {
   "cell_type": "code",
   "execution_count": null,
   "metadata": {},
   "outputs": [],
   "source": []
  },
  {
   "cell_type": "code",
   "execution_count": null,
   "metadata": {},
   "outputs": [],
   "source": []
  },
  {
   "cell_type": "code",
   "execution_count": null,
   "metadata": {},
   "outputs": [],
   "source": [
    "# import Render\n",
    "import Render_opencv as Render\n",
    "Render.extIOR, Render.intIOR = 1.0, 1.5\n",
    "res=512\n",
    "Float = torch.float64\n",
    "# Float = torch.float32\n",
    "device='cuda'\n",
    "Render.res = res\n",
    "Render.device = device\n",
    "Render.Float = Float"
   ]
  },
  {
   "cell_type": "code",
   "execution_count": null,
   "metadata": {},
   "outputs": [],
   "source": [
    "scene =  Render.Scene(\"/root/workspace/data/mouse_vh.ply\")\n"
   ]
  },
  {
   "cell_type": "code",
   "execution_count": null,
   "metadata": {},
   "outputs": [],
   "source": [
    "alltime = 0\n",
    "for _ in range(1000):\n",
    "    start = time.time()\n",
    "    scene.init_VN()\n",
    "    alltime += time.time() - start\n",
    "alltime"
   ]
  },
  {
   "cell_type": "code",
   "execution_count": null,
   "metadata": {},
   "outputs": [],
   "source": [
    "%%capture\n",
    "from matplotlib import pyplot as plt\n",
    "from matplotlib import animation\n",
    "from IPython.display import HTML\n",
    "fig = plt.figure()\n",
    "im = plt.imshow(gif[0], animated=True)\n",
    "def update_fig(i):\n",
    "    im.set_array(gif[i])\n",
    "    return im,\n",
    "anim = animation.FuncAnimation(fig, update_fig, frames=len(gif), interval=50, blit=True)\n",
    ""
   ]
  },
  {
   "cell_type": "code",
   "execution_count": null,
   "metadata": {},
   "outputs": [],
   "source": [
    "HTML(anim.to_jshtml())"
   ]
  },
  {
   "cell_type": "code",
   "execution_count": null,
   "metadata": {},
   "outputs": [],
   "source": []
  },
  {
   "cell_type": "code",
   "execution_count": null,
   "metadata": {},
   "outputs": [],
   "source": [
    "# Render.extIOR, Render.intIOR = 1.15, 1.0\n",
    "Render.extIOR, Render.intIOR = 1.5, 1.0\n",
    "\n",
    "def render_target(scene:Render.Scene, deg):\n",
    "    #俯视\n",
    "    M=TF.rotation_matrix(-np.pi/180*0, [1,0,0])\n",
    "    angle = TF.euler_from_matrix(TF.rotation_matrix(np.pi/180*deg, [0,1,0]) @ M)\n",
    "    # scene.set_camera(fov=(60,60), distance = 1.0, center=(0,0.0,0), angles=angle)\n",
    "    # scene.set_camera(fov=(60,60), distance = 1.1, center=(0,0.0,0), angles=angle)\n",
    "    scene.set_camera(fov=(60,60), distance = 1.3, center=(0,0.0,0), angles=angle)\n",
    "    camera_M = scene.camera_M()\n",
    "    origin, ray_dir = scene.generate_ray()\n",
    "    target, twice_mask = scene.render_transparent(origin, ray_dir)\n",
    "    mask = scene.mask(origin, ray_dir)\n",
    "\n",
    "    M = mask.view((res,res,1)).cpu().numpy()\n",
    "    M = M.astype(np.uint8)\n",
    "    bound = 2\n",
    "    dist= (cv2.distanceTransform(M, cv2.DIST_L2, 0)-1).clip(0,bound)\\\n",
    "     - (cv2.distanceTransform(1-M, cv2.DIST_L2, 0)-1).clip(0,bound)\n",
    "    soft_mask = (dist + bound) / (2*bound)\n",
    "    soft_mask = torch.tensor(soft_mask, dtype=Float, device=device)\n",
    "\n",
    "    return target, twice_mask, soft_mask, origin, ray_dir, camera_M\n",
    "\n",
    "# Target = Render.Scene(\"/root/workspace/data/kitten.obj\")\n",
    "Target = Render.Scene(\"/root/workspace/data/bunny.ply\")\n",
    "Views = []\n",
    "for deg in range(-90,90,15):\n",
    "    Views.append(render_target(Target, deg))\n",
    "# # for deg in [-30,-15,0,15,30]:\n",
    "for deg in range(-90,90,15):\n",
    "    Views.append(render_target(Target, deg+180))\n"
   ]
  },
  {
   "cell_type": "code",
   "execution_count": null,
   "metadata": {},
   "outputs": [],
   "source": [
    "Render.torch2pil(Views[6][2])"
   ]
  },
  {
   "cell_type": "code",
   "execution_count": null,
   "metadata": {},
   "outputs": [],
   "source": [
    "\n",
    "target, twice_mask, mask, origin, ray_dir, camera_M  = Views[6]\n",
    "silhouette_edge = Target.silhouette_edge(origin[0])\n",
    "index, output = Target.primary_visibility(silhouette_edge, camera_M, origin[0], detach_depth=True)\n",
    "mask.view((res,res))[index[:,0],index[:,1]]\n",
    "# mask.view((res,res))[index[:,0],index[:,1]] = 2\n",
    "# Render.torch2pil(mask)"
   ]
  },
  {
   "cell_type": "code",
   "execution_count": null,
   "metadata": {},
   "outputs": [],
   "source": [
    "\n",
    "# kitten_vh = Render.Scene(\"/root/workspace/DR/kitten_remesh.ply\")\n",
    "# kitten_vh = Render.Scene(\"/root/workspace/data/kitten_vh_sim.ply\")\n",
    "# kitten_vh = Render.Scene(\"/root/workspace/data/kitten_vh_sub.ply\")\n",
    "# kitten_vh = Render.Scene(\"/root/workspace/data/bunny_vh_sim.ply\")\n",
    "kitten_vh = Render.Scene(\"/root/workspace/data/bunny_vh_sub.ply\")\n",
    "# kitten_vh = Render.Scene(\"/root/workspace/DR/result/bunny_optim_remesh.ply\")\n",
    "vh_vertices = kitten_vh.vertices\n",
    "vh_normals = torch.tensor(kitten_vh.mesh.vertex_normals, dtype=Render.Float, device=device)\n",
    "vh_faces = torch.tensor(kitten_vh.mesh.faces, device=device)\n",
    "parameter = torch.zeros(vh_vertices.shape, dtype=Float, requires_grad=True, device=device)\n",
    "def limit_hook(grad):\n",
    "    grad[grad>1]=1\n",
    "    grad[grad<-1]=-1\n",
    "    return grad\n",
    "parameter.register_hook(limit_hook)\n",
    "# opt = torch.optim.Adam([parameter], lr=.0003)\n",
    "# opt = torch.optim.Adam([parameter], lr=.0003)\n",
    "# opt = torch.optim.Adam([parameter], lr=.001)\n",
    "# opt = torch.optim.SGD([parameter], lr=.001, momentum = 0.9, nesterov =True)\n",
    "opt = torch.optim.SGD([parameter], lr=.001, momentum = 0.9, nesterov =True)\n",
    "\n",
    "# e1 = kitten_vh.mesh.vertices[kitten_vh.mesh.edges[:,0]]\n",
    "# e2 = kitten_vh.mesh.vertices[kitten_vh.mesh.edges[:,1]]\n",
    "# mean_len = np.linalg.norm(e1-e2, axis=1).mean()\n",
    "\n",
    "dist = []\n",
    "_=Target.mesh.export(\"/dev/shm/DR/target.ply\")"
   ]
  },
  {
   "cell_type": "code",
   "execution_count": null,
   "metadata": {
    "tags": [
     "outputPrepend",
     "outputPrepend",
     "outputPrepend",
     "outputPrepend",
     "outputPrepend",
     "outputPrepend",
     "outputPrepend",
     "outputPrepend",
     "outputPrepend",
     "outputPrepend",
     "outputPrepend",
     "outputPrepend",
     "outputPrepend",
     "outputPrepend",
     "outputPrepend",
     "outputPrepend",
     "outputPrepend",
     "outputPrepend",
     "outputPrepend",
     "outputPrepend",
     "outputPrepend",
     "outputPrepend",
     "outputPrepend",
     "outputPrepend",
     "outputPrepend",
     "outputPrepend",
     "outputPrepend",
     "outputPrepend"
    ]
   },
   "outputs": [],
   "source": [
    "# opt = torch.optim.SGD([parameter], lr=.0001, momentum = 0.9, nesterov =True)\n",
    "# Render.extIOR, Render.intIOR = 1.45, 1.0\n",
    "Render.extIOR, Render.intIOR = 1.5, 1.0\n",
    "\n",
    "def area_var(vertices):\n",
    "    v0=vertices[vh_faces[:,0]]\n",
    "    v1=vertices[vh_faces[:,1]]\n",
    "    v2=vertices[vh_faces[:,2]]\n",
    "    edge1 = v1-v0\n",
    "    edge2 = v2-v0\n",
    "    area =torch.cross(edge1,edge2).norm(dim=1)\n",
    "    area_ave = area.mean().detach()\n",
    "    area_var = ((area-area_ave)/area_ave).pow(2).mean()\n",
    "    return area_var\n",
    "def mean_hausd(mesh):\n",
    "    # closest, distance, triangle_id = closest_point(Target.mesh, vertices)\n",
    "    # distance = distance*9.7*2\n",
    "    # return distance.mean()\n",
    "    tmppath = \"/dev/shm/DR/temp.ply\"\n",
    "    mesh.export(tmppath)\n",
    "    logpath = \"/dev/shm/DR/hausd_log\"\n",
    "    os.system('rm '+logpath)\n",
    "    cmd = \"DISPLAY=:1 meshlabserver -i \" + tmppath + \" /dev/shm/DR/target.ply -s /root/workspace/data/hausd.mlx -l \" + logpath\n",
    "    assert (os.system(cmd)==0)\n",
    "    dist = mlx.compute.parse_hausdorff(logpath)['mean_distance']\n",
    "    return dist\n",
    "\n",
    "for it in range(1):\n",
    "    dist.append(mean_hausd(kitten_vh.mesh))\n",
    "    for i in trange(400):\n",
    "        # V_index = random.randint(0, len(Views)-1)\n",
    "        V_index = 6\n",
    "        target, twice_mask, mask, origin, ray_dir, camera_M = Views[V_index]\n",
    "        # Zero out gradients before each iteration\n",
    "        opt.zero_grad()\n",
    "\n",
    "        # vertices = vh_vertices + parameter * vh_normals\n",
    "        vertices = vh_vertices + parameter\n",
    "        kitten_vh.update_verticex(vertices)\n",
    "\n",
    "        render_img, render_twice_mask = kitten_vh.render_transparent(origin, ray_dir)\n",
    "        twice_mask = (twice_mask * render_twice_mask)\n",
    "        # loss = 1e3*(render_img[twice_mask]-target[twice_mask]).pow(2).mean()\n",
    "        loss = 1e2*(render_img[twice_mask]-target[twice_mask]).pow(2).mean()\n",
    "\n",
    "        silhouette_edge = kitten_vh.silhouette_edge(origin[0])\n",
    "        index, output = kitten_vh.primary_visibility(silhouette_edge, camera_M, origin[0], detach_depth=True)\n",
    "        vh_loss = 1e2 * (mask.view((res,res))[index[:,0],index[:,1]] - output).abs().mean()\n",
    "\n",
    "        # rough = 0 * parameter.abs().mean()\n",
    "\n",
    "        laplac = vertices - kitten_vh.weightM.mm(vertices) \n",
    "        sm_loss = 50*torch.norm(laplac/0.02, dim=1).pow(2).mean()    \n",
    "        # sm_loss = 1*torch.norm(laplac/0.02, dim=1).pow(2).mean()    \n",
    "        # sm_loss = torch.norm(laplac, dim=1).mean()\n",
    "        area_loss = 1*area_var(vertices)\n",
    "        # area_loss = 0*area_var(vertices)\n",
    "\n",
    "        # (loss+sm_loss+vh_loss+area_loss).backward()\n",
    "        vh_loss.backward()\n",
    "        # if it % 200 == 0:\n",
    "        #     # dist.append(mean_hausd(vertices.detach().cpu().numpy()))\n",
    "        #     dist.append(mean_hausd(kitten_vh.mesh))\n",
    "\n",
    "\n",
    "        # Optimizer: take a gradient step\n",
    "        opt.step()\n",
    "\n",
    "        # vertices_detach = vh_vertices + parameter.detach()\n",
    "        # laplac = vertices_detach - kitten_vh.weightM.mm(vertices_detach) \n",
    "        # vh_vertices -= 0.3*laplac\n",
    "        # vertices_detach = vh_vertices + parameter.detach()\n",
    "        # laplac = vertices_detach - kitten_vh.weightM.mm(vertices_detach) \n",
    "        # vh_vertices += 0.3*laplac\n",
    "        print('Iteration %03i: dist=%g error=%g sm=%g vh=%g grad=%g' % (it, dist[-1], loss, sm_loss, vh_loss, parameter.grad.abs().max()))\n",
    "\n",
    "    # imageio.imsave(\"result/disp_{}.png\".format(it), parameter.detach().cpu())\n",
    "\n",
    "# _=mesh_vh.export(\"kitten_optim.ply\")\n"
   ]
  },
  {
   "cell_type": "code",
   "execution_count": null,
   "metadata": {},
   "outputs": [],
   "source": [
    "index.shape"
   ]
  },
  {
   "cell_type": "code",
   "execution_count": null,
   "metadata": {},
   "outputs": [],
   "source": [
    "mask.view((res,res))[index[:,0],index[:,1]]"
   ]
  },
  {
   "cell_type": "code",
   "execution_count": null,
   "metadata": {},
   "outputs": [],
   "source": [
    "# _=kitten_vh.mesh.export(\"kitten_optim2.ply\")\n",
    "_=kitten_vh.mesh.export(\"result/bunny_debug.ply\")"
   ]
  },
  {
   "cell_type": "code",
   "execution_count": null,
   "metadata": {},
   "outputs": [],
   "source": [
    "plt.plot(range(len(dist)),dist)\n",
    "#ior 1.5"
   ]
  },
  {
   "cell_type": "code",
   "execution_count": null,
   "metadata": {},
   "outputs": [],
   "source": [
    "plt.plot(range(len(dist)),dist)\n",
    "#ior 1.45 -> 1.5"
   ]
  },
  {
   "cell_type": "code",
   "execution_count": null,
   "metadata": {},
   "outputs": [],
   "source": [
    "plt.plot(range(len(dist)),dist)\n",
    "#area loss 2"
   ]
  },
  {
   "cell_type": "code",
   "execution_count": null,
   "metadata": {},
   "outputs": [],
   "source": [
    "plt.plot(range(len(dist)),dist)\n",
    "#area loss 0"
   ]
  },
  {
   "cell_type": "code",
   "execution_count": null,
   "metadata": {},
   "outputs": [],
   "source": [
    "dist[-1]*8.4"
   ]
  },
  {
   "cell_type": "code",
   "execution_count": null,
   "metadata": {},
   "outputs": [],
   "source": [
    "# mesh = Render.Scene(\"/root/workspace/data/bunny_vh_sub.ply\")\n",
    "# closest, distance, triangle_id = closest_point(Target.mesh, mesh.mesh.vertices)\n",
    "closest, distance, triangle_id = closest_point(Target.mesh, kitten_vh.mesh.vertices)\n",
    "cmap = plt.cm.get_cmap('jet')\n",
    "# distance = distance*9.7*2\n",
    "distance = distance*8.4\n",
    "color = distance.copy()\n",
    "max_dist = 0.4\n",
    "# max_dist = 0.75\n",
    "color[color>max_dist]=max_dist\n",
    "# mesh.mesh.visual.vertex_colors = cmap(color/max_dist)\n",
    "kitten_vh.mesh.visual.vertex_colors = cmap(color/max_dist)\n",
    "distance.mean()"
   ]
  },
  {
   "cell_type": "code",
   "execution_count": null,
   "metadata": {},
   "outputs": [],
   "source": [
    "_=mesh.mesh.export(\"/root/workspace/data/bunny_vh_sub.ply\")\n"
   ]
  },
  {
   "cell_type": "code",
   "execution_count": null,
   "metadata": {},
   "outputs": [],
   "source": [
    "from trimesh.sample import sample_surface_even\n",
    "sample,face_ind = sample_surface_even(kitten_vh.mesh, int(10e4))\n",
    "closest, distance, triangle_id = closest_point(Target.mesh, sample)\n",
    "distance = distance\n",
    "distance.mean()"
   ]
  },
  {
   "cell_type": "code",
   "execution_count": null,
   "metadata": {},
   "outputs": [],
   "source": [
    "v0 = kitten_vh.mesh.vertices[kitten_vh.mesh.faces[:,0]]\n",
    "v1 = kitten_vh.mesh.vertices[kitten_vh.mesh.faces[:,1]]\n",
    "v2 = kitten_vh.mesh.vertices[kitten_vh.mesh.faces[:,2]]\n",
    "closest, distance0, triangle_id = closest_point(Target.mesh, v0)\n",
    "closest, distance1, triangle_id = closest_point(Target.mesh, v1)\n",
    "closest, distance2, triangle_id = closest_point(Target.mesh, v2)\n",
    "distance = (distance0+distance1+distance2) / 3\n",
    "(distance * kitten_vh.mesh.area_faces).sum() / kitten_vh.mesh.area_faces.sum() "
   ]
  },
  {
   "cell_type": "code",
   "execution_count": null,
   "metadata": {},
   "outputs": [],
   "source": [
    "kitten_vh.mesh.faces.shape"
   ]
  },
  {
   "cell_type": "code",
   "execution_count": null,
   "metadata": {},
   "outputs": [],
   "source": [
    "kitten_vh.mesh.area_faces.shape"
   ]
  },
  {
   "cell_type": "code",
   "execution_count": null,
   "metadata": {},
   "outputs": [],
   "source": [
    "kitten_vh.mesh.show()"
   ]
  },
  {
   "cell_type": "code",
   "execution_count": null,
   "metadata": {},
   "outputs": [],
   "source": [
    "kitten_vh.mesh.extents"
   ]
  },
  {
   "cell_type": "code",
   "execution_count": null,
   "metadata": {},
   "outputs": [],
   "source": []
  },
  {
   "cell_type": "code",
   "execution_count": null,
   "metadata": {},
   "outputs": [],
   "source": [
    "# mesh = Render.Scene(\"/root/workspace/data/kitten_vh_sub.ply\")\n",
    "mesh = Render.Scene(\"/root/workspace/DR/bunny_optim_remesh.ply\")\n",
    "# point = mesh.mesh.vertices\n",
    "# point[point[:,2]<-0.5, 2] =  -0.5\n",
    "closest, distance, triangle_id = closest_point(Target.mesh, mesh.mesh.vertices)\n",
    "cmap = plt.cm.get_cmap('jet')\n",
    "# distance = distance*9.7*2\n",
    "distance = distance*8.4*2\n",
    "color = distance.copy()\n",
    "# max_dist = 0.1\n",
    "max_dist = distance.max()\n",
    "color[color>max_dist]=max_dist\n",
    "# mesh.mesh.visual.vertex_colors = cmap(color/max_dist)\n",
    "distance.max()\n",
    ""
   ]
  },
  {
   "cell_type": "code",
   "execution_count": null,
   "metadata": {},
   "outputs": [],
   "source": [
    "mask=mesh.mesh.vertices[:,1]>-0.48\n",
    "distance[mask].mean()"
   ]
  },
  {
   "cell_type": "code",
   "execution_count": null,
   "metadata": {},
   "outputs": [],
   "source": [
    "mesh.mesh.show()"
   ]
  },
  {
   "cell_type": "code",
   "execution_count": null,
   "metadata": {},
   "outputs": [],
   "source": [
    "_=mesh.mesh.export(\"/root/workspace/DR/bunny_optim2.ply\")"
   ]
  },
  {
   "cell_type": "code",
   "execution_count": null,
   "metadata": {},
   "outputs": [],
   "source": []
  }
 ],
 "metadata": {
  "language_info": {
   "name": "python",
   "codemirror_mode": {
    "name": "ipython",
    "version": 3
   },
   "version": "3.7.6-final"
  },
  "orig_nbformat": 2,
  "file_extension": ".py",
  "mimetype": "text/x-python",
  "name": "python",
  "npconvert_exporter": "python",
  "pygments_lexer": "ipython3",
  "version": 3,
  "kernelspec": {
   "name": "python3",
   "display_name": "Python 3"
  }
 },
 "nbformat": 4,
 "nbformat_minor": 2
}