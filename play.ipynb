{
 "nbformat": 4,
 "nbformat_minor": 2,
 "metadata": {
  "language_info": {
   "name": "python",
   "codemirror_mode": {
    "name": "ipython",
    "version": 3
   },
   "version": "3.7.6-final"
  },
  "orig_nbformat": 2,
  "file_extension": ".py",
  "mimetype": "text/x-python",
  "name": "python",
  "npconvert_exporter": "python",
  "pygments_lexer": "ipython3",
  "version": 3,
  "kernelspec": {
   "name": "python3",
   "display_name": "Python 3"
  }
 },
 "cells": [
  {
   "cell_type": "code",
   "execution_count": 1,
   "metadata": {},
   "outputs": [],
   "source": [
    "import trimesh\n",
    "import trimesh.transformations as TF\n",
    "import torch\n",
    "import numpy as np\n",
    "import random"
   ]
  },
  {
   "cell_type": "code",
   "execution_count": 2,
   "metadata": {},
   "outputs": [],
   "source": [
    "import Render\n",
    "Render.extIOR, Render.intIOR = 1.15, 1.0\n",
    "# Render.extIOR, Render.intIOR = 1.5, 1.0\n",
    "res=512\n",
    "Float = torch.float64\n",
    "device='cuda'\n",
    "Render.res = res\n",
    "Render.device = device\n",
    "Render.Float = Float"
   ]
  },
  {
   "cell_type": "code",
   "execution_count": 3,
   "metadata": {},
   "outputs": [],
   "source": [
    "# kitten = Render.Scene(\"/root/workspace/data/kitten.obj\")\n",
    "kitten = Render.Scene(\"/root/workspace/data/kitten_vh_sim.ply\")\n",
    "kitten.set_camera((60,60), 1.1, center=(0,0,0), angles=None)\n",
    "R,K = kitten.camera_RK()\n",
    "origin, ray_dir = kitten.generate_ray()\n",
    ""
   ]
  },
  {
   "cell_type": "code",
   "execution_count": 4,
   "metadata": {},
   "outputs": [
    {
     "output_type": "execute_result",
     "data": {
      "text/plain": "<PIL.Image.Image image mode=L size=512x512 at 0x7F8A1C351A90>",
      "image/png": "[encoded data removed]"
     },
     "metadata": {},
     "execution_count": 4
    }
   ],
   "source": [
    "silhouette_edge = kitten.silhouette_edge(origin[0])\n",
    "index, output = kitten.primary_visibility(silhouette_edge, R, K, origin[0])\n",
    "image = torch.zeros((res,res))\n",
    "image[index[:,0],index[:,1]]=1\n",
    "Render.PILimage(image)"
   ]
  },
  {
   "cell_type": "code",
   "execution_count": 22,
   "metadata": {},
   "outputs": [
    {
     "output_type": "execute_result",
     "data": {
      "text/plain": "<PIL.Image.Image image mode=L size=512x512 at 0x7F8953E630D0>",
      "image/png": "[encoded data removed]"
     },
     "metadata": {},
     "execution_count": 22
    }
   ],
   "source": [
    "# kitten = Render.Scene(\"/root/workspace/data/kitten.obj\")\n",
    "kitten = Render.Scene(\"/root/workspace/data/kitten_vh_sim.ply\")\n",
    "kitten.set_camera((60,60), 1.3, center=(0,0,0), angles=None)\n",
    "R,K = kitten.camera_RK()\n",
    "origin, ray_dir = kitten.generate_ray()\n",
    "target_mask = kitten.mask(origin, ray_dir)\n",
    "Render.PILimage(target_mask)"
   ]
  },
  {
   "cell_type": "code",
   "execution_count": 23,
   "metadata": {},
   "outputs": [
    {
     "output_type": "execute_result",
     "data": {
      "text/plain": "<PIL.Image.Image image mode=L size=512x512 at 0x7F89580F11D0>",
      "image/png": "[encoded data removed]"
     },
     "metadata": {},
     "execution_count": 23
    }
   ],
   "source": [
    "new_vert = kitten.vertices + torch.tensor([0.2,0.2,-0.2], device=device)\n",
    "kitten.update_verticex(new_vert)\n",
    "Render.PILimage(kitten.mask(origin, ray_dir))"
   ]
  },
  {
   "cell_type": "code",
   "execution_count": 24,
   "metadata": {},
   "outputs": [
    {
     "output_type": "stream",
     "name": "stdout",
     "text": "Iteration 098: error=0.00915146"
    },
    {
     "output_type": "execute_result",
     "data": {
      "text/plain": "()"
     },
     "metadata": {},
     "execution_count": 24
    }
   ],
   "source": [
    "\n",
    "vertices = kitten.vertices\n",
    "parameter = torch.zeros(3,  device=device, requires_grad=True)\n",
    "opt = torch.optim.Adam([parameter], lr=.02)\n",
    "gif = []\n",
    "for i in range(99):\n",
    "\n",
    "    mask = kitten.mask(origin, ray_dir)\n",
    "    gif.append(Render.PILimage(mask))\n",
    "    error = (target_mask - mask).abs().mean()\n",
    "    print('Iteration %03i: error=%g' % (i, error), end='\\r')\n",
    "\n",
    "    opt.zero_grad()\n",
    "    new_vert = vertices + parameter\n",
    "    kitten.update_verticex(new_vert)\n",
    "    silhouette_edge = kitten.silhouette_edge(origin[0])\n",
    "    index, output = kitten.primary_visibility(silhouette_edge, R, K, origin[0])\n",
    "    loss = (target_mask.view((res,res))[index[:,0],index[:,1]] - output).abs().sum()\n",
    "    loss.backward()\n",
    "    opt.step()\n",
    "()\n",
    ""
   ]
  },
  {
   "cell_type": "code",
   "execution_count": 25,
   "metadata": {},
   "outputs": [],
   "source": [
    "import imageio\n",
    "imageio.mimsave('sil.gif',gif)"
   ]
  },
  {
   "cell_type": "code",
   "execution_count": null,
   "metadata": {},
   "outputs": [],
   "source": [
    "def render_target(scene:Render.Scene, deg):\n",
    "    #俯视\n",
    "    M=TF.rotation_matrix(-np.pi/180*0, [1,0,0])\n",
    "    angle = TF.euler_from_matrix(TF.rotation_matrix(np.pi/180*deg, [0,1,0]) @ M)\n",
    "    # scene.set_camera(fov=(60,60), distance = 1.0, center=(0,0.0,0), angles=angle)\n",
    "    scene.set_camera(fov=(60,60), distance = 1.1, center=(0,0.0,0), angles=angle)\n",
    "    origin, ray_dir = scene.generate_ray()\n",
    "    target, target_mask = scene.render_transparent(origin, ray_dir)\n",
    "    return target, target_mask, origin, ray_dir\n",
    "\n",
    "Target = Render.Scene(\"/root/workspace/data/kitten.obj\")\n",
    "Views = []\n",
    "# for deg in [-30,-15,0,15,30]:\n",
    "for deg in range(-90,90,45):\n",
    "    Views.append(render_target(Target, deg))\n",
    "# for deg in [-30,-15,0,15,30]:\n",
    "for deg in range(-90,90,45):\n",
    "    Views.append(render_target(Target, deg+180))\n",
    "\n",
    ""
   ]
  },
  {
   "cell_type": "code",
   "execution_count": null,
   "metadata": {},
   "outputs": [],
   "source": [
    "Render.PILimage(Views[2][0])"
   ]
  },
  {
   "cell_type": "code",
   "execution_count": null,
   "metadata": {},
   "outputs": [],
   "source": [
    "# mesh_vh = trimesh.load(\"/root/workspace/data/bunny.ply\")\n",
    "# mesh_vh = trimesh.load(\"/root/workspace/data/kitten.obj\")\n",
    "# mesh_vh = trimesh.load(\"/root/workspace/data/kitten_vh_sim.ply\")\n",
    "# mesh_vh = trimesh.load(\"/root/workspace/data/hand_vh_sim.ply\")\n",
    "# mesh_vh = trimesh.load(\"/root/workspace/data/hand_vh_sub.ply\")\n",
    "# mesh_vh = trimesh.load(\"/root/workspace/data/kitten_vh_sub.ply\")\n",
    "# mesh_vh.apply_transform(TF.rotation_matrix(-np.pi/2, [1,0,0]))\n",
    "# mesh_vh.export(\"result/hand_init.ply\")\n",
    "\n",
    "kitten_vh = Render.Scene(\"/root/workspace/data/kitten_vh_sim.ply\")\n",
    "vh_vertices = kitten_vh.vertices\n",
    "vh_normals = torch.tensor(kitten_vh.mesh.vertex_normals, dtype=Float, device=device)\n",
    "\n",
    "# parameter = torch.zeros((vh_vertices.shape[0],1), requires_grad=True)\n",
    "# parameter = torch.zeros(bunny_sm.vertices.shape, requires_grad=True)\n",
    "# parameter = torch.zeros([len(vh_vertices),1], dtype=Float, requires_grad=True, device=device)\n",
    "parameter = torch.zeros(vh_vertices.shape, dtype=Float, requires_grad=True, device=device)\n",
    "parameter.register_hook(kitten_vh.laplac_hook)\n",
    "opt = torch.optim.Adam([parameter], lr=.0002)\n",
    "# opt = torch.optim.SGD([parameter], lr=.05)\n",
    "\n"
   ]
  },
  {
   "cell_type": "code",
   "execution_count": null,
   "metadata": {},
   "outputs": [],
   "source": [
    "\n",
    "for it in range(99):\n",
    "    V_index = random.randint(0, len(Views)-1)\n",
    "    # V_index = 2\n",
    "    target, target_mask, origin, ray_dir = Views[V_index]\n",
    "    # Zero out gradients before each iteration\n",
    "    opt.zero_grad()\n",
    "\n",
    "    # vertices = vh_vertices + parameter * vh_normals\n",
    "    vertices = vh_vertices + parameter\n",
    "    kitten_vh.update_verticex(vertices)\n",
    "    render_img, render_mask = kitten_vh.render_transparent(origin, ray_dir)\n",
    "     \n",
    "    mask = (target_mask * render_mask)\n",
    "    loss = (render_img[mask]-target[mask]).pow(2).mean()\n",
    "    kitten_vh.hook_w = 0.0\n",
    "    # laplac = 0\n",
    "    rough = 0.001*parameter.abs().mean()\n",
    "    (loss+rough).backward()\n",
    "    # loss.backward()\n",
    "\n",
    "    # Optimizer: take a gradient step\n",
    "    opt.step()\n",
    "\n",
    "    # save_image(\"result/img_{}.png\".format(it), render.detach().cpu())\n",
    "    # print('Iteration %03i: error=%g laplac=%g' % (it, loss, laplac_hook.rough), end='\\r')\n",
    "    print('Iteration %03i: error=%g rough=%g hook=%g' % (it, loss, rough, kitten_vh.hook_rough), end='\\r')\n",
    "    # imageio.imsave(\"result/disp_{}.png\".format(it), parameter.detach().cpu())\n",
    "    \n",
    "\n",
    "# imageio.imsave(\"displacment.png\", parameter.detach().cpu())\n",
    "# save_image(\"result/optim.png\", render.detach())\n",
    "# mesh_vh.export(\"result/hand_optim.ply\")\n",
    "# _=mesh_vh.export(\"hand_optim.ply\")\n",
    "# _=mesh_vh.export(\"kitten_optim.ply\")\n",
    ""
   ]
  },
  {
   "cell_type": "code",
   "execution_count": null,
   "metadata": {},
   "outputs": [],
   "source": [
    "Render.PILimage(render_img)"
   ]
  },
  {
   "cell_type": "code",
   "execution_count": null,
   "metadata": {},
   "outputs": [],
   "source": [
    "mesh_vh = trimesh.load(\"/root/workspace/data/hand_vh_sim.ply\")\n",
    "vh_vertices = torch.tensor(mesh_vh.vertices, dtype=Float, device=device)\n",
    "neighbors=mesh_vh.vertex_neighbors\n",
    "col = np.concatenate(neighbors)\n",
    "row = np.concatenate([[i] * len(n) for i, n in enumerate(neighbors)])\n",
    "data = np.concatenate([[1.0 / len(n)] * len(n) for n in neighbors])\n",
    "col = torch.tensor(col, device=device)\n",
    "row = torch.tensor(row, device=device)\n",
    "i = torch.stack((row,col))\n",
    "data = torch.tensor(data, dtype=Float, device=device)\n",
    "SM_size = torch.Size([len(vertices),len(vertices)])\n",
    "weightM=torch.sparse.FloatTensor(i, data, SM_size)\n",
    "iterations = 10\n",
    "lamb = 0.5\n",
    "for _index in range(iterations):\n",
    "    # vol_ini = mesh_vh.volume\n",
    "    laplac = vh_vertices - weightM.mm(vh_vertices)\n",
    "    vh_vertices -= lamb * laplac\n",
    "    mesh_vh.vertices = vh_vertices.detach().cpu().numpy()\n",
    "    # vol_new = mesh_vh.volume\n",
    "    # vh_vertices *= ((vol_ini / vol_new) ** (1.0 / 3.0))\n",
    "mesh_vh.vertices = vh_vertices.detach().cpu().numpy()\n"
   ]
  },
  {
   "cell_type": "code",
   "execution_count": null,
   "metadata": {},
   "outputs": [],
   "source": [
    "_=mesh_vh.export(\"hand_sm.ply\")"
   ]
  },
  {
   "cell_type": "code",
   "execution_count": null,
   "metadata": {},
   "outputs": [],
   "source": []
  }
 ]
}